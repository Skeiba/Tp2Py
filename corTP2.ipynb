{
 "cells": [
  {
   "cell_type": "code",
   "execution_count": 1,
   "metadata": {},
   "outputs": [
    {
     "name": "stdout",
     "output_type": "stream",
     "text": [
      "7\n",
      "14\n",
      "21\n",
      "28\n",
      "35\n",
      "42\n",
      "49\n"
     ]
    }
   ],
   "source": [
    "for i in range(1,8):\n",
    "    print(7*i)"
   ]
  },
  {
   "cell_type": "code",
   "execution_count": 2,
   "metadata": {},
   "outputs": [
    {
     "name": "stdout",
     "output_type": "stream",
     "text": [
      "15\n"
     ]
    }
   ],
   "source": [
    "nombre = int(input(\"entrer un nombre : \"))\n",
    "somme = 0\n",
    "for i in range(nombre+1):\n",
    "    somme+=i\n",
    "print(somme)"
   ]
  },
  {
   "cell_type": "code",
   "execution_count": 3,
   "metadata": {},
   "outputs": [
    {
     "name": "stdout",
     "output_type": "stream",
     "text": [
      "1\n"
     ]
    }
   ],
   "source": [
    "nombre = int(input(\"entrer un nombre : \"))\n",
    "count = 0\n",
    "\n",
    "while nombre != 0:\n",
    "    count += 1\n",
    "    nombre = nombre // 10\n",
    "print(count)"
   ]
  },
  {
   "cell_type": "code",
   "execution_count": 4,
   "metadata": {},
   "outputs": [
    {
     "name": "stdout",
     "output_type": "stream",
     "text": [
      "1 \n",
      "1 2 \n",
      "1 2 3 \n",
      "1 2 3 4 \n",
      "1 2 3 4 5 \n"
     ]
    }
   ],
   "source": [
    "nombre = int(input(\"Entrer nombre des lignes : \"))\n",
    "\n",
    "for i in range(1,nombre+1):\n",
    "    for j in range(1,i+1):\n",
    "        print(j,end=\" \")\n",
    "    print()"
   ]
  },
  {
   "cell_type": "code",
   "execution_count": 5,
   "metadata": {},
   "outputs": [
    {
     "name": "stdout",
     "output_type": "stream",
     "text": [
      "Shjh$654654\n",
      "Mot de passe valide\n"
     ]
    }
   ],
   "source": [
    "while True:\n",
    "    majuscule = False\n",
    "    miniscule = False\n",
    "    chiffre = False\n",
    "    cspecial = False\n",
    "\n",
    "\n",
    "    mot_de_passe = input(\"Entrer votre mot de pase : \")\n",
    "    password = list(mot_de_passe)\n",
    "    taille_password = len(password)\n",
    "    print(mot_de_passe)\n",
    "    for i in password:\n",
    "        if i.isupper():\n",
    "            majuscule = True\n",
    "        if i.islower():\n",
    "            miniscule = True\n",
    "        if i.isdigit():\n",
    "            chiffre = True\n",
    "        if i in [\"&\", \"$\", \"!\"]:\n",
    "            cspecial = True\n",
    "\n",
    "    if majuscule and miniscule and chiffre and cspecial and taille_password >= 8 :\n",
    "        print(\"Mot de passe valide\")\n",
    "        break\n",
    "    else:\n",
    "        print(\"mot de passe invalide\")"
   ]
  },
  {
   "cell_type": "code",
   "execution_count": 6,
   "metadata": {},
   "outputs": [
    {
     "name": "stdout",
     "output_type": "stream",
     "text": [
      "75\n",
      "\n",
      "150\n",
      "\n",
      "145\n",
      "\n"
     ]
    }
   ],
   "source": [
    "#ma_liste = [12,75,150,180,145,525,50]\n",
    "liste = input(\"Entrer element de liste : \").split(',')\n",
    "ma_liste = [int(x) for x in liste]\n",
    "\n",
    "for itr in ma_liste:\n",
    "    if itr > 500:\n",
    "        break\n",
    "    if itr > 150:\n",
    "        continue\n",
    "    if itr % 5 == 0:\n",
    "        print(itr,end=\"\\n\\n\")"
   ]
  },
  {
   "cell_type": "code",
   "execution_count": 7,
   "metadata": {},
   "outputs": [
    {
     "name": "stdout",
     "output_type": "stream",
     "text": [
      "[-30, -2, 1, 0, 500, 4, 2, 100]\n"
     ]
    }
   ],
   "source": [
    "#L = [1,-30,0,-2,500,4,2,100]\n",
    "liste = input(\"Entrer element de liste : \")\n",
    "L = [int(x) for x in liste.split(' ')]\n",
    "\n",
    "#methode classic\n",
    "#M = []\n",
    "#for num in L:\n",
    "#    if num < 0:\n",
    "#        M.append(num)\n",
    "#for num in L:\n",
    "#    if num >= 0:\n",
    "#        M.append(num)\n",
    "        \n",
    "#methode simple\n",
    "M = [num for num in L if num < 0 ]+[num for num in L if num >= 0]    \n",
    "\n",
    "print(M)"
   ]
  },
  {
   "cell_type": "code",
   "execution_count": 1,
   "metadata": {},
   "outputs": [
    {
     "name": "stdout",
     "output_type": "stream",
     "text": [
      "[1, 2, 4, 5, 8, 20]\n",
      "1\n",
      "2\n",
      "3\n",
      "4\n",
      "5\n",
      "[1, 2, 4, 5, 8, 13, 20]\n"
     ]
    }
   ],
   "source": [
    "liste = input(\"Entrer element de liste : \")\n",
    "L = [int(x) for x in liste.split(' ')]\n",
    "L.sort()\n",
    "print(L)\n",
    "\n",
    "val = int(input(\"Entrer un valeur : \"))\n",
    "\n",
    "index = 0\n",
    "while index < len(L) and L[index] < val:\n",
    "    index+=1\n",
    "    print(index)\n",
    "L.insert(index,val)\n",
    "print(L)"
   ]
  },
  {
   "cell_type": "code",
   "execution_count": 3,
   "metadata": {},
   "outputs": [
    {
     "name": "stdout",
     "output_type": "stream",
     "text": [
      "La liste :\n",
      " [5, 1, 4, 8, 2, 5, 3, 5]\n",
      "5\n",
      "[1, 4, 8, 2, 3]\n"
     ]
    }
   ],
   "source": [
    "liste = input(\"Entrer element de liste : \")\n",
    "L = [int(x) for x in liste.split(' ')]\n",
    "print(\"La liste :\\n\",L)\n",
    "nombre = int(input(\"entrer un nombre a supprimer : \"))\n",
    "print(nombre)\n",
    "#methode1\n",
    "#for num in L[::-1]:\n",
    "#    if num == nombre:\n",
    "#        L.remove(num)\n",
    "#methode2 simple\n",
    "while L.count(nombre) != 0:\n",
    "    L.remove(nombre)\n",
    "print(L)"
   ]
  },
  {
   "cell_type": "code",
   "execution_count": 4,
   "metadata": {},
   "outputs": [
    {
     "name": "stdout",
     "output_type": "stream",
     "text": [
      "[1, 4, 5, 9, 6, 8, 5, 1, 4, 9, 5, 2]\n",
      "La liste apres suppression des occurences : \n",
      " [1, 2, 4, 5, 6, 8, 9]\n"
     ]
    }
   ],
   "source": [
    "liste = input(\"Entrer element de liste : \")\n",
    "L = [int(x) for x in liste.split(' ')]\n",
    "print(L)\n",
    "'''\n",
    "methode 1\n",
    "for num in L[::-1]: #iterartion inverse\n",
    "    if L.count(num) > 1:\n",
    "        #print(L)\n",
    "        L.remove(num)\n",
    "\n",
    "#autre methode\n",
    "for num in L:\n",
    "    while(L.count(num) > 1):\n",
    "        L.remove(num)\n",
    "'''\n",
    "#methode primitive\n",
    "i = 0\n",
    "while(i < len(L)):\n",
    "    j=i+1\n",
    "    while(j < len(L)):\n",
    "        if(L[i]==L[j]):\n",
    "            del L[j]\n",
    "        else:\n",
    "            j+=1\n",
    "    i+=1        \n",
    "L.sort()\n",
    "print(\"La liste apres suppression des occurences : \\n\",L)"
   ]
  },
  {
   "cell_type": "code",
   "execution_count": 6,
   "metadata": {},
   "outputs": [
    {
     "name": "stdout",
     "output_type": "stream",
     "text": [
      "[1, 5, 4, 8, 5, 6, 9, 5]\n",
      "5 occure 3 fois.\n",
      "La position de chaque occurence : \n",
      "la position 1 est : 1\n",
      "la position 2 est : 4\n",
      "la position 3 est : 7\n"
     ]
    }
   ],
   "source": [
    "liste = input(\"Entrer element de liste : \").split()\n",
    "L = [int(x) for x in liste]\n",
    "print(L)\n",
    "L2=[]\n",
    "num = int(input(\"entrer le nombre que vous cherchez : \"))\n",
    "count = L.count(num)\n",
    "\n",
    "if(count>=1):\n",
    "    print(f\"{num} occure {count} fois.\")\n",
    "    print(\"L'indice de chaque occurence : \")\n",
    "    itr = 1\n",
    "    for indice in range(len(L)):\n",
    "        if L[indice] == num:\n",
    "            print(f\"Position {itr} est : {indice}\",end=\"\\n\")\n",
    "            L2.append(indice)\n",
    "            itr+=1\n",
    "    #for indice ,nombre in enumerate(L):\n",
    "    #    if(num == nombre):\n",
    "    #        print(f\"L[{indice}]\")\n",
    "else:\n",
    "    print(f\"{num} n'existe pas dans la liste.\")\n",
    "print(f\"liste des indice d'occurence de {num} : {L2}\")"
   ]
  },
  {
   "cell_type": "code",
   "execution_count": 7,
   "metadata": {},
   "outputs": [
    {
     "name": "stdout",
     "output_type": "stream",
     "text": [
      "L3 = [35, 88]\n"
     ]
    }
   ],
   "source": [
    "L1=[1,3,6,78,35,35,88,55]\n",
    "L2=[12,24,35,24,88,120,155,88,55]\n",
    "#liste1 = input('Entrer element de liste1 : ').split()\n",
    "#L1 = [int(x) for x in liste1]\n",
    "#liste2 = input('Entrer element de liste2 : ').split()\n",
    "#L2 = [int(x) for x in liste2]\n",
    "\n",
    "L3=[]\n",
    "\n",
    "for num in L1:\n",
    "    if num in L2 and num not in L3:\n",
    "        L3.append(num)\n",
    "\n",
    "print(\"L3 =\",L3)"
   ]
  }
 ],
 "metadata": {
  "kernelspec": {
   "display_name": "Python 3",
   "language": "python",
   "name": "python3"
  },
  "language_info": {
   "codemirror_mode": {
    "name": "ipython",
    "version": 3
   },
   "file_extension": ".py",
   "mimetype": "text/x-python",
   "name": "python",
   "nbconvert_exporter": "python",
   "pygments_lexer": "ipython3",
   "version": "3.11.5"
  }
 },
 "nbformat": 4,
 "nbformat_minor": 2
}
